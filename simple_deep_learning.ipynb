{
  "nbformat": 4,
  "nbformat_minor": 0,
  "metadata": {
    "colab": {
      "name": "simple_deep_learning.ipynb",
      "provenance": [],
      "include_colab_link": true
    },
    "kernelspec": {
      "name": "python3",
      "display_name": "Python 3"
    }
  },
  "cells": [
    {
      "cell_type": "markdown",
      "metadata": {
        "id": "view-in-github",
        "colab_type": "text"
      },
      "source": [
        "<a href=\"https://colab.research.google.com/github/tonkatsu-ika/simple_deep_learning/blob/master/simple_deep_learning.ipynb\" target=\"_parent\"><img src=\"https://colab.research.google.com/assets/colab-badge.svg\" alt=\"Open In Colab\"/></a>"
      ]
    },
    {
      "cell_type": "markdown",
      "metadata": {
        "id": "Rgjoy2O6yFPD",
        "colab_type": "text"
      },
      "source": [
        "# Simple　Deep Learning"
      ]
    },
    {
      "cell_type": "markdown",
      "metadata": {
        "id": "3mTciEV-yJ0A",
        "colab_type": "text"
      },
      "source": [
        "データの読み込み"
      ]
    },
    {
      "cell_type": "code",
      "metadata": {
        "id": "rCnZ43fzx_-D",
        "colab_type": "code",
        "colab": {
          "base_uri": "https://localhost:8080/",
          "height": 221
        },
        "outputId": "c3f8132b-96f6-4590-f1a1-a374c79763d7"
      },
      "source": [
        "import numpy as np\n",
        "from sklearn import datasets\n",
        "\n",
        "iris = datasets.load_iris()\n",
        "print(iris.data[:10])\n",
        "print(iris.target[:10])\n",
        "print(iris.data.shape)"
      ],
      "execution_count": 1,
      "outputs": [
        {
          "output_type": "stream",
          "text": [
            "[[5.1 3.5 1.4 0.2]\n",
            " [4.9 3.  1.4 0.2]\n",
            " [4.7 3.2 1.3 0.2]\n",
            " [4.6 3.1 1.5 0.2]\n",
            " [5.  3.6 1.4 0.2]\n",
            " [5.4 3.9 1.7 0.4]\n",
            " [4.6 3.4 1.4 0.3]\n",
            " [5.  3.4 1.5 0.2]\n",
            " [4.4 2.9 1.4 0.2]\n",
            " [4.9 3.1 1.5 0.1]]\n",
            "[0 0 0 0 0 0 0 0 0 0]\n",
            "(150, 4)\n"
          ],
          "name": "stdout"
        }
      ]
    },
    {
      "cell_type": "markdown",
      "metadata": {
        "id": "-CA4HNYbzg5W",
        "colab_type": "text"
      },
      "source": [
        "データの前処理"
      ]
    },
    {
      "cell_type": "code",
      "metadata": {
        "id": "lzqftiRLzez7",
        "colab_type": "code",
        "colab": {
          "base_uri": "https://localhost:8080/",
          "height": 357
        },
        "outputId": "71f6dc05-b959-42f7-f130-a319a3f61678"
      },
      "source": [
        "from sklearn import preprocessing\n",
        "from keras.utils import np_utils\n",
        "\n",
        "scaler = preprocessing.StandardScaler()\n",
        "scaler.fit(iris.data)\n",
        "x = scaler.transform(iris.data)\n",
        "print(x[:10])\n",
        "\n",
        "t = np_utils.to_categorical(iris.target)\n",
        "print(t[:10])"
      ],
      "execution_count": 6,
      "outputs": [
        {
          "output_type": "stream",
          "text": [
            "[[-0.90068117  1.01900435 -1.34022653 -1.3154443 ]\n",
            " [-1.14301691 -0.13197948 -1.34022653 -1.3154443 ]\n",
            " [-1.38535265  0.32841405 -1.39706395 -1.3154443 ]\n",
            " [-1.50652052  0.09821729 -1.2833891  -1.3154443 ]\n",
            " [-1.02184904  1.24920112 -1.34022653 -1.3154443 ]\n",
            " [-0.53717756  1.93979142 -1.16971425 -1.05217993]\n",
            " [-1.50652052  0.78880759 -1.34022653 -1.18381211]\n",
            " [-1.02184904  0.78880759 -1.2833891  -1.3154443 ]\n",
            " [-1.74885626 -0.36217625 -1.34022653 -1.3154443 ]\n",
            " [-1.14301691  0.09821729 -1.2833891  -1.44707648]]\n",
            "[[1. 0. 0.]\n",
            " [1. 0. 0.]\n",
            " [1. 0. 0.]\n",
            " [1. 0. 0.]\n",
            " [1. 0. 0.]\n",
            " [1. 0. 0.]\n",
            " [1. 0. 0.]\n",
            " [1. 0. 0.]\n",
            " [1. 0. 0.]\n",
            " [1. 0. 0.]]\n"
          ],
          "name": "stdout"
        }
      ]
    },
    {
      "cell_type": "markdown",
      "metadata": {
        "id": "BG-5H7f20uQq",
        "colab_type": "text"
      },
      "source": [
        "訓練データとテスト用データ"
      ]
    },
    {
      "cell_type": "code",
      "metadata": {
        "id": "yQH1SWgM0y6U",
        "colab_type": "code",
        "colab": {
          "base_uri": "https://localhost:8080/",
          "height": 34
        },
        "outputId": "500bb725-5001-4a6b-ba19-39a890c45af2"
      },
      "source": [
        "from sklearn.model_selection import train_test_split\n",
        "\n",
        "x_train, x_test, t_train, t_test = train_test_split(x, t, train_size=0.75)\n",
        "print(x_train.shape)"
      ],
      "execution_count": 9,
      "outputs": [
        {
          "output_type": "stream",
          "text": [
            "(112, 4)\n"
          ],
          "name": "stdout"
        }
      ]
    },
    {
      "cell_type": "markdown",
      "metadata": {
        "id": "GYpZRKIT1qGC",
        "colab_type": "text"
      },
      "source": [
        "## モデルの構築"
      ]
    },
    {
      "cell_type": "code",
      "metadata": {
        "id": "1wjUrCni1pqu",
        "colab_type": "code",
        "colab": {
          "base_uri": "https://localhost:8080/",
          "height": 374
        },
        "outputId": "6641f8d2-4b99-4c0f-a95d-6d6146ba78df"
      },
      "source": [
        "from keras.models import Sequential\n",
        "from keras.layers import Dense, Activation\n",
        "\n",
        "model = Sequential()\n",
        "model.add(Dense(32, input_dim=4))\n",
        "model.add(Activation('relu'))\n",
        "model.add(Dense(32))\n",
        "model.add(Activation('relu'))\n",
        "model.add(Dense(3))\n",
        "model.add(Activation('softmax'))\n",
        "model.compile(optimizer='sgd', loss='categorical_crossentropy', metrics=['accuracy'])\n",
        "\n",
        "print(model.summary())"
      ],
      "execution_count": 11,
      "outputs": [
        {
          "output_type": "stream",
          "text": [
            "Model: \"sequential_2\"\n",
            "_________________________________________________________________\n",
            "Layer (type)                 Output Shape              Param #   \n",
            "=================================================================\n",
            "dense_4 (Dense)              (None, 32)                160       \n",
            "_________________________________________________________________\n",
            "activation_4 (Activation)    (None, 32)                0         \n",
            "_________________________________________________________________\n",
            "dense_5 (Dense)              (None, 32)                1056      \n",
            "_________________________________________________________________\n",
            "activation_5 (Activation)    (None, 32)                0         \n",
            "_________________________________________________________________\n",
            "dense_6 (Dense)              (None, 3)                 99        \n",
            "_________________________________________________________________\n",
            "activation_6 (Activation)    (None, 3)                 0         \n",
            "=================================================================\n",
            "Total params: 1,315\n",
            "Trainable params: 1,315\n",
            "Non-trainable params: 0\n",
            "_________________________________________________________________\n",
            "None\n"
          ],
          "name": "stdout"
        }
      ]
    },
    {
      "cell_type": "markdown",
      "metadata": {
        "id": "nA20Kz1h3V4w",
        "colab_type": "text"
      },
      "source": [
        "## 学習"
      ]
    },
    {
      "cell_type": "code",
      "metadata": {
        "id": "_9RkZ4Cf3dR5",
        "colab_type": "code",
        "colab": {
          "base_uri": "https://localhost:8080/",
          "height": 1000
        },
        "outputId": "4ade3192-18a8-4b5a-aac9-f229c493be36"
      },
      "source": [
        "history = model.fit(x_train, t_train, nb_epoch=30, batch_size=8)"
      ],
      "execution_count": 12,
      "outputs": [
        {
          "output_type": "stream",
          "text": [
            "WARNING:tensorflow:From /usr/local/lib/python3.6/dist-packages/tensorflow_core/python/ops/math_grad.py:1424: where (from tensorflow.python.ops.array_ops) is deprecated and will be removed in a future version.\n",
            "Instructions for updating:\n",
            "Use tf.where in 2.0, which has the same broadcast rule as np.where\n",
            "WARNING:tensorflow:From /usr/local/lib/python3.6/dist-packages/keras/backend/tensorflow_backend.py:1033: The name tf.assign_add is deprecated. Please use tf.compat.v1.assign_add instead.\n",
            "\n",
            "WARNING:tensorflow:From /usr/local/lib/python3.6/dist-packages/keras/backend/tensorflow_backend.py:1020: The name tf.assign is deprecated. Please use tf.compat.v1.assign instead.\n",
            "\n"
          ],
          "name": "stdout"
        },
        {
          "output_type": "stream",
          "text": [
            "/usr/local/lib/python3.6/dist-packages/ipykernel_launcher.py:1: UserWarning: The `nb_epoch` argument in `fit` has been renamed `epochs`.\n",
            "  \"\"\"Entry point for launching an IPython kernel.\n"
          ],
          "name": "stderr"
        },
        {
          "output_type": "stream",
          "text": [
            "WARNING:tensorflow:From /usr/local/lib/python3.6/dist-packages/keras/backend/tensorflow_backend.py:3005: The name tf.Session is deprecated. Please use tf.compat.v1.Session instead.\n",
            "\n",
            "Epoch 1/30\n",
            "WARNING:tensorflow:From /usr/local/lib/python3.6/dist-packages/keras/backend/tensorflow_backend.py:190: The name tf.get_default_session is deprecated. Please use tf.compat.v1.get_default_session instead.\n",
            "\n",
            "WARNING:tensorflow:From /usr/local/lib/python3.6/dist-packages/keras/backend/tensorflow_backend.py:197: The name tf.ConfigProto is deprecated. Please use tf.compat.v1.ConfigProto instead.\n",
            "\n",
            "WARNING:tensorflow:From /usr/local/lib/python3.6/dist-packages/keras/backend/tensorflow_backend.py:207: The name tf.global_variables is deprecated. Please use tf.compat.v1.global_variables instead.\n",
            "\n",
            "WARNING:tensorflow:From /usr/local/lib/python3.6/dist-packages/keras/backend/tensorflow_backend.py:216: The name tf.is_variable_initialized is deprecated. Please use tf.compat.v1.is_variable_initialized instead.\n",
            "\n",
            "WARNING:tensorflow:From /usr/local/lib/python3.6/dist-packages/keras/backend/tensorflow_backend.py:223: The name tf.variables_initializer is deprecated. Please use tf.compat.v1.variables_initializer instead.\n",
            "\n",
            "112/112 [==============================] - 1s 5ms/step - loss: 1.1676 - acc: 0.3929\n",
            "Epoch 2/30\n",
            "112/112 [==============================] - 0s 193us/step - loss: 1.0167 - acc: 0.5000\n",
            "Epoch 3/30\n",
            "112/112 [==============================] - 0s 153us/step - loss: 0.9110 - acc: 0.5804\n",
            "Epoch 4/30\n",
            "112/112 [==============================] - 0s 163us/step - loss: 0.8225 - acc: 0.8393\n",
            "Epoch 5/30\n",
            "112/112 [==============================] - 0s 160us/step - loss: 0.7409 - acc: 0.8661\n",
            "Epoch 6/30\n",
            "112/112 [==============================] - 0s 181us/step - loss: 0.6715 - acc: 0.8661\n",
            "Epoch 7/30\n",
            "112/112 [==============================] - 0s 191us/step - loss: 0.6154 - acc: 0.8750\n",
            "Epoch 8/30\n",
            "112/112 [==============================] - 0s 171us/step - loss: 0.5681 - acc: 0.8839\n",
            "Epoch 9/30\n",
            "112/112 [==============================] - 0s 177us/step - loss: 0.5295 - acc: 0.8839\n",
            "Epoch 10/30\n",
            "112/112 [==============================] - 0s 180us/step - loss: 0.4959 - acc: 0.8839\n",
            "Epoch 11/30\n",
            "112/112 [==============================] - 0s 207us/step - loss: 0.4670 - acc: 0.8839\n",
            "Epoch 12/30\n",
            "112/112 [==============================] - 0s 174us/step - loss: 0.4417 - acc: 0.8929\n",
            "Epoch 13/30\n",
            "112/112 [==============================] - 0s 166us/step - loss: 0.4199 - acc: 0.9018\n",
            "Epoch 14/30\n",
            "112/112 [==============================] - 0s 177us/step - loss: 0.4005 - acc: 0.9018\n",
            "Epoch 15/30\n",
            "112/112 [==============================] - 0s 205us/step - loss: 0.3834 - acc: 0.9196\n",
            "Epoch 16/30\n",
            "112/112 [==============================] - 0s 162us/step - loss: 0.3666 - acc: 0.9196\n",
            "Epoch 17/30\n",
            "112/112 [==============================] - 0s 183us/step - loss: 0.3514 - acc: 0.9286\n",
            "Epoch 18/30\n",
            "112/112 [==============================] - 0s 186us/step - loss: 0.3381 - acc: 0.9196\n",
            "Epoch 19/30\n",
            "112/112 [==============================] - 0s 183us/step - loss: 0.3258 - acc: 0.9375\n",
            "Epoch 20/30\n",
            "112/112 [==============================] - 0s 197us/step - loss: 0.3139 - acc: 0.9286\n",
            "Epoch 21/30\n",
            "112/112 [==============================] - 0s 159us/step - loss: 0.3043 - acc: 0.9286\n",
            "Epoch 22/30\n",
            "112/112 [==============================] - 0s 165us/step - loss: 0.2932 - acc: 0.9286\n",
            "Epoch 23/30\n",
            "112/112 [==============================] - 0s 157us/step - loss: 0.2844 - acc: 0.9286\n",
            "Epoch 24/30\n",
            "112/112 [==============================] - 0s 179us/step - loss: 0.2761 - acc: 0.9464\n",
            "Epoch 25/30\n",
            "112/112 [==============================] - 0s 199us/step - loss: 0.2676 - acc: 0.9464\n",
            "Epoch 26/30\n",
            "112/112 [==============================] - 0s 176us/step - loss: 0.2604 - acc: 0.9464\n",
            "Epoch 27/30\n",
            "112/112 [==============================] - 0s 187us/step - loss: 0.2522 - acc: 0.9464\n",
            "Epoch 28/30\n",
            "112/112 [==============================] - 0s 179us/step - loss: 0.2454 - acc: 0.9464\n",
            "Epoch 29/30\n",
            "112/112 [==============================] - 0s 175us/step - loss: 0.2393 - acc: 0.9554\n",
            "Epoch 30/30\n",
            "112/112 [==============================] - 0s 176us/step - loss: 0.2328 - acc: 0.9554\n"
          ],
          "name": "stdout"
        }
      ]
    },
    {
      "cell_type": "markdown",
      "metadata": {
        "id": "Q3AJHriN32pK",
        "colab_type": "text"
      },
      "source": [
        "## 学習の推移"
      ]
    },
    {
      "cell_type": "code",
      "metadata": {
        "id": "YCfCO8M935W2",
        "colab_type": "code",
        "colab": {
          "base_uri": "https://localhost:8080/",
          "height": 266
        },
        "outputId": "cfe86ea9-f499-456d-e822-56fc6253ff7b"
      },
      "source": [
        "import matplotlib.pyplot as plt\n",
        "\n",
        "hist_loss = history.history['loss']\n",
        "hist_acc = history.history['acc']\n",
        "\n",
        "plt.plot(np.arange(len(hist_loss)), hist_loss, label='loss')\n",
        "plt.plot(np.arange(len(hist_acc)), hist_acc, label='acc')\n",
        "plt.legend()\n",
        "plt.show()"
      ],
      "execution_count": 14,
      "outputs": [
        {
          "output_type": "display_data",
          "data": {
            "image/png": "[encoded data removed]",
            "text/plain": [
              "<Figure size 432x288 with 1 Axes>"
            ]
          },
          "metadata": {
            "tags": []
          }
        }
      ]
    },
    {
      "cell_type": "markdown",
      "metadata": {
        "id": "moutZM1D4t0A",
        "colab_type": "text"
      },
      "source": [
        "## 評価"
      ]
    },
    {
      "cell_type": "code",
      "metadata": {
        "id": "bIfBxS9R4ux0",
        "colab_type": "code",
        "colab": {
          "base_uri": "https://localhost:8080/",
          "height": 51
        },
        "outputId": "6a34b9b8-6325-4d67-86d9-6d845337cff3"
      },
      "source": [
        "loss, accuracy = model.evaluate(x_test, t_test)\n",
        "print(loss, accuracy)"
      ],
      "execution_count": 15,
      "outputs": [
        {
          "output_type": "stream",
          "text": [
            "38/38 [==============================] - 0s 878us/step\n",
            "0.27300458872004557 0.8947368421052632\n"
          ],
          "name": "stdout"
        }
      ]
    },
    {
      "cell_type": "markdown",
      "metadata": {
        "id": "iFLm1HcB5Cnb",
        "colab_type": "text"
      },
      "source": [
        "## 予測"
      ]
    },
    {
      "cell_type": "code",
      "metadata": {
        "id": "Rp8AwTNz5Ewf",
        "colab_type": "code",
        "colab": {
          "base_uri": "https://localhost:8080/",
          "height": 663
        },
        "outputId": "91f9e4d7-6e9d-46c3-ba90-b5e1cdb41b6d"
      },
      "source": [
        "model.predict(x_test)"
      ],
      "execution_count": 16,
      "outputs": [
        {
          "output_type": "execute_result",
          "data": {
            "text/plain": [
              "array([[1.84356458e-02, 8.23792875e-01, 1.57771438e-01],\n",
              "       [9.79563057e-01, 1.52436020e-02, 5.19330660e-03],\n",
              "       [1.62240453e-02, 4.20552850e-01, 5.63223064e-01],\n",
              "       [4.20009419e-02, 6.60774827e-01, 2.97224253e-01],\n",
              "       [6.42043576e-02, 7.10582733e-01, 2.25212887e-01],\n",
              "       [7.79634267e-02, 8.11144173e-01, 1.10892415e-01],\n",
              "       [6.33385591e-03, 1.15055084e-01, 8.78611088e-01],\n",
              "       [3.05800624e-02, 4.93888438e-01, 4.75531578e-01],\n",
              "       [1.10268258e-02, 1.43351361e-01, 8.45621824e-01],\n",
              "       [2.96009798e-03, 2.01339915e-01, 7.95699954e-01],\n",
              "       [2.98753195e-02, 2.71278441e-01, 6.98846281e-01],\n",
              "       [4.02967999e-04, 6.11355081e-02, 9.38461483e-01],\n",
              "       [1.08534552e-03, 7.60233849e-02, 9.22891259e-01],\n",
              "       [9.77609396e-01, 1.69448424e-02, 5.44583844e-03],\n",
              "       [9.59954202e-01, 3.36859152e-02, 6.35987287e-03],\n",
              "       [1.32200459e-03, 6.30823970e-02, 9.35595572e-01],\n",
              "       [9.53207254e-01, 3.53793167e-02, 1.14134680e-02],\n",
              "       [5.94910458e-02, 8.33318412e-01, 1.07190549e-01],\n",
              "       [4.18628193e-03, 8.93038139e-02, 9.06509936e-01],\n",
              "       [9.66083825e-01, 2.43975781e-02, 9.51860938e-03],\n",
              "       [5.77695295e-03, 1.65924698e-01, 8.28298330e-01],\n",
              "       [9.82115149e-01, 1.33732194e-02, 4.51155053e-03],\n",
              "       [1.03620872e-01, 8.54917109e-01, 4.14619595e-02],\n",
              "       [2.54505780e-02, 2.89618701e-01, 6.84930682e-01],\n",
              "       [3.67119932e-03, 1.78756624e-01, 8.17572176e-01],\n",
              "       [1.99177228e-02, 3.85938019e-01, 5.94144225e-01],\n",
              "       [4.40144576e-02, 7.35447049e-01, 2.20538497e-01],\n",
              "       [9.82734144e-01, 1.30311912e-02, 4.23460267e-03],\n",
              "       [9.76287425e-01, 1.82998385e-02, 5.41272946e-03],\n",
              "       [2.56260787e-03, 6.71657920e-02, 9.30271626e-01],\n",
              "       [9.71869946e-01, 2.06233803e-02, 7.50666996e-03],\n",
              "       [4.94464934e-02, 3.78303498e-01, 5.72250068e-01],\n",
              "       [9.77473140e-01, 1.70035455e-02, 5.52335521e-03],\n",
              "       [1.42422842e-03, 5.60058430e-02, 9.42569852e-01],\n",
              "       [9.75297511e-01, 2.14937571e-02, 3.20876180e-03],\n",
              "       [3.93028371e-03, 1.31282270e-01, 8.64787459e-01],\n",
              "       [1.01154439e-01, 7.14339912e-01, 1.84505641e-01],\n",
              "       [9.75083709e-01, 1.81758236e-02, 6.74046250e-03]], dtype=float32)"
            ]
          },
          "metadata": {
            "tags": []
          },
          "execution_count": 16
        }
      ]
    },
    {
      "cell_type": "markdown",
      "metadata": {
        "id": "BBVG8ccZ5RCZ",
        "colab_type": "text"
      },
      "source": [
        "## 保存"
      ]
    },
    {
      "cell_type": "code",
      "metadata": {
        "id": "s2ZEY0un5SrF",
        "colab_type": "code",
        "colab": {
          "base_uri": "https://localhost:8080/",
          "height": 34
        },
        "outputId": "bb7dda07-4d33-46cc-e56d-65acedb71537"
      },
      "source": [
        "from keras.models import load_model\n",
        "\n",
        "model.save('model.h5')\n",
        "load_model('model.h5')"
      ],
      "execution_count": 17,
      "outputs": [
        {
          "output_type": "execute_result",
          "data": {
            "text/plain": [
              "<keras.engine.sequential.Sequential at 0x7f7df909c080>"
            ]
          },
          "metadata": {
            "tags": []
          },
          "execution_count": 17
        }
      ]
    }
  ]
}